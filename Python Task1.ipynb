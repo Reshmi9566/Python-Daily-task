{
 "cells": [
  {
   "cell_type": "code",
   "execution_count": 63,
   "id": "be685a17",
   "metadata": {},
   "outputs": [
    {
     "data": {
      "text/plain": [
       "'Hello'"
      ]
     },
     "execution_count": 63,
     "metadata": {},
     "output_type": "execute_result"
    }
   ],
   "source": [
    "#Question 1\n",
    "str0=\"Hello, World!\"\n",
    "str0[:5]"
   ]
  },
  {
   "cell_type": "code",
   "execution_count": 4,
   "id": "1c65ba75",
   "metadata": {},
   "outputs": [
    {
     "data": {
      "text/plain": [
       "'is'"
      ]
     },
     "execution_count": 4,
     "metadata": {},
     "output_type": "execute_result"
    }
   ],
   "source": [
    "#Question 2\n",
    "str1=\"Python is fun\"\n",
    "str1[7:9]"
   ]
  },
  {
   "cell_type": "code",
   "execution_count": 9,
   "id": "e4ea25b0",
   "metadata": {},
   "outputs": [
    {
     "data": {
      "text/plain": [
       "'gram'"
      ]
     },
     "execution_count": 9,
     "metadata": {},
     "output_type": "execute_result"
    }
   ],
   "source": [
    "#Question 3\n",
    "str2=\"Programming\"\n",
    "str2[3:7]"
   ]
  },
  {
   "cell_type": "code",
   "execution_count": 10,
   "id": "5d8f6888",
   "metadata": {},
   "outputs": [
    {
     "data": {
      "text/plain": [
       "'aceg'"
      ]
     },
     "execution_count": 10,
     "metadata": {},
     "output_type": "execute_result"
    }
   ],
   "source": [
    "#Question 4\n",
    "str3=\"abcdefgh\"\n",
    "str3[::2]"
   ]
  },
  {
   "cell_type": "code",
   "execution_count": 11,
   "id": "17bae20c",
   "metadata": {},
   "outputs": [
    {
     "data": {
      "text/plain": [
       "'efg'"
      ]
     },
     "execution_count": 11,
     "metadata": {},
     "output_type": "execute_result"
    }
   ],
   "source": [
    "#Question 5\n",
    "str4=\"abcdefg\"\n",
    "str4[-3:]"
   ]
  },
  {
   "cell_type": "code",
   "execution_count": 13,
   "id": "ca823a5d",
   "metadata": {},
   "outputs": [
    {
     "data": {
      "text/plain": [
       "'nce'"
      ]
     },
     "execution_count": 13,
     "metadata": {},
     "output_type": "execute_result"
    }
   ],
   "source": [
    "#Question 6\n",
    "str5=\"Data Science\"\n",
    "str5[-3:]"
   ]
  },
  {
   "cell_type": "code",
   "execution_count": 15,
   "id": "5e22eea9",
   "metadata": {},
   "outputs": [
    {
     "data": {
      "text/plain": [
       "'bdfhj'"
      ]
     },
     "execution_count": 15,
     "metadata": {},
     "output_type": "execute_result"
    }
   ],
   "source": [
    "#Question 7\n",
    "str6=\"abcdefghij\"\n",
    "str6[1::2]"
   ]
  },
  {
   "cell_type": "code",
   "execution_count": 16,
   "id": "744ee8c4",
   "metadata": {},
   "outputs": [
    {
     "data": {
      "text/plain": [
       "'13579'"
      ]
     },
     "execution_count": 16,
     "metadata": {},
     "output_type": "execute_result"
    }
   ],
   "source": [
    "#question 8\n",
    "str7=\"1234567890\"\n",
    "str7[::2]"
   ]
  },
  {
   "cell_type": "code",
   "execution_count": 17,
   "id": "1a37fe6d",
   "metadata": {},
   "outputs": [
    {
     "data": {
      "text/plain": [
       "'olleH'"
      ]
     },
     "execution_count": 17,
     "metadata": {},
     "output_type": "execute_result"
    }
   ],
   "source": [
    "#Question 9\n",
    "str8=\"Hello\"\n",
    "str8[::-1]"
   ]
  },
  {
   "cell_type": "code",
   "execution_count": 18,
   "id": "885f765c",
   "metadata": {},
   "outputs": [
    {
     "data": {
      "text/plain": [
       "'acegik'"
      ]
     },
     "execution_count": 18,
     "metadata": {},
     "output_type": "execute_result"
    }
   ],
   "source": [
    "#Question 10\n",
    "str9=\"abcdefghijk\"\n",
    "str9[::2]"
   ]
  },
  {
   "cell_type": "code",
   "execution_count": 20,
   "id": "251918fb",
   "metadata": {},
   "outputs": [
    {
     "name": "stdout",
     "output_type": "stream",
     "text": [
      "10\n"
     ]
    }
   ],
   "source": [
    "#Question 11\n",
    "list1=[1,2,3,4]\n",
    "sum=list1[0]+list1[1]+list1[2]+list1[3]\n",
    "print(sum)"
   ]
  },
  {
   "cell_type": "code",
   "execution_count": 27,
   "id": "04ed9059",
   "metadata": {},
   "outputs": [
    {
     "name": "stdout",
     "output_type": "stream",
     "text": [
      "enter a string :Fly a kite\n",
      "10\n",
      "Fly a\n"
     ]
    }
   ],
   "source": [
    "#Question 12\n",
    "n=input(\"enter a string :\")\n",
    "print(len(n))\n",
    "print(n[:len(n)//2])\n"
   ]
  },
  {
   "cell_type": "code",
   "execution_count": 29,
   "id": "4f1afdfc",
   "metadata": {},
   "outputs": [
    {
     "data": {
      "text/plain": [
       "(78, 45, 32, 19, 82, 77, 40, 39)"
      ]
     },
     "execution_count": 29,
     "metadata": {},
     "output_type": "execute_result"
    }
   ],
   "source": [
    "#Question 13\n",
    "tuple1=(78,45,32,19,82,77,40,39)\n",
    "tuple1"
   ]
  },
  {
   "cell_type": "code",
   "execution_count": 30,
   "id": "7ee5b95a",
   "metadata": {},
   "outputs": [
    {
     "data": {
      "text/plain": [
       "[78, 45, 100, 19, 82, 77, 40, 39]"
      ]
     },
     "execution_count": 30,
     "metadata": {},
     "output_type": "execute_result"
    }
   ],
   "source": [
    "list1=list(tuple1)\n",
    "list1[2]=100\n",
    "list1"
   ]
  },
  {
   "cell_type": "code",
   "execution_count": 31,
   "id": "5733af5c",
   "metadata": {},
   "outputs": [
    {
     "data": {
      "text/plain": [
       "(78, 45, 100, 19, 82, 77, 40, 39)"
      ]
     },
     "execution_count": 31,
     "metadata": {},
     "output_type": "execute_result"
    }
   ],
   "source": [
    "changed_tuple=tuple(list1)\n",
    "changed_tuple"
   ]
  },
  {
   "cell_type": "code",
   "execution_count": 16,
   "id": "b776e38a",
   "metadata": {},
   "outputs": [
    {
     "data": {
      "text/plain": [
       "[19, 32, 10, 55, 31, 32, 94, 29, 10, 65, 77, 40, 40]"
      ]
     },
     "execution_count": 16,
     "metadata": {},
     "output_type": "execute_result"
    }
   ],
   "source": [
    "#Question 14\n",
    "listA=[19,32,10,55,31,32,94,29,10,65,77,40,40]\n",
    "listA"
   ]
  },
  {
   "cell_type": "code",
   "execution_count": 17,
   "id": "8fbbf454",
   "metadata": {},
   "outputs": [
    {
     "data": {
      "text/plain": [
       "[19, 10, 55, 31, 32, 94, 29, 10, 65, 77, 40, 40]"
      ]
     },
     "execution_count": 17,
     "metadata": {},
     "output_type": "execute_result"
    }
   ],
   "source": [
    "listA.remove(32)\n",
    "listA"
   ]
  },
  {
   "cell_type": "code",
   "execution_count": 18,
   "id": "848c0917",
   "metadata": {},
   "outputs": [],
   "source": [
    "listA.remove(40)"
   ]
  },
  {
   "cell_type": "code",
   "execution_count": 19,
   "id": "8bb1e5be",
   "metadata": {},
   "outputs": [],
   "source": [
    "listA.remove(40)"
   ]
  },
  {
   "cell_type": "code",
   "execution_count": 20,
   "id": "43bd88bd",
   "metadata": {},
   "outputs": [
    {
     "data": {
      "text/plain": [
       "[19, 10, 55, 31, 32, 94, 29, 10, 65, 77]"
      ]
     },
     "execution_count": 20,
     "metadata": {},
     "output_type": "execute_result"
    }
   ],
   "source": [
    "listA"
   ]
  },
  {
   "cell_type": "code",
   "execution_count": 21,
   "id": "b30536c7",
   "metadata": {},
   "outputs": [
    {
     "data": {
      "text/plain": [
       "94"
      ]
     },
     "execution_count": 21,
     "metadata": {},
     "output_type": "execute_result"
    }
   ],
   "source": [
    "listA.pop(5)"
   ]
  },
  {
   "cell_type": "code",
   "execution_count": 22,
   "id": "728b7277",
   "metadata": {},
   "outputs": [
    {
     "data": {
      "text/plain": [
       "[19, 10, 55, 31, 32, 29, 10, 65, 77]"
      ]
     },
     "execution_count": 22,
     "metadata": {},
     "output_type": "execute_result"
    }
   ],
   "source": [
    "listA"
   ]
  },
  {
   "cell_type": "code",
   "execution_count": 23,
   "id": "70e52d19",
   "metadata": {},
   "outputs": [
    {
     "data": {
      "text/plain": [
       "[19, 10, 55, 31, 32, 29, 10, 65, 300]"
      ]
     },
     "execution_count": 23,
     "metadata": {},
     "output_type": "execute_result"
    }
   ],
   "source": [
    "listA[8]=300\n",
    "listA"
   ]
  },
  {
   "cell_type": "code",
   "execution_count": 24,
   "id": "01b4bd80",
   "metadata": {},
   "outputs": [
    {
     "data": {
      "text/plain": [
       "[19, 10, 200, 55, 31, 32, 29, 10, 65, 300]"
      ]
     },
     "execution_count": 24,
     "metadata": {},
     "output_type": "execute_result"
    }
   ],
   "source": [
    "listA.insert(2,200)\n",
    "listA"
   ]
  },
  {
   "cell_type": "code",
   "execution_count": 25,
   "id": "ba23974c",
   "metadata": {},
   "outputs": [
    {
     "name": "stdout",
     "output_type": "stream",
     "text": [
      "[19, 10, 200, 55, 31, 32, 29, 10, 65, 300]\n",
      "length :  10\n",
      "Max value :  300\n",
      "sum :  751\n"
     ]
    }
   ],
   "source": [
    "print(listA)\n",
    "print(\"length : \",len(listA))\n",
    "print(\"Max value : \",max(listA))\n",
    "print(\"sum : \",sum(listA))"
   ]
  },
  {
   "cell_type": "code",
   "execution_count": 36,
   "id": "bc93a7a5",
   "metadata": {},
   "outputs": [
    {
     "name": "stdout",
     "output_type": "stream",
     "text": [
      "The ay has been long\n"
     ]
    }
   ],
   "source": [
    "#Question 15\n",
    "str1=\"The day has been long\"\n",
    "str2=str1[0:4]\n",
    "str3=str1[5:]\n",
    "string=str2+str3\n",
    "print(string)"
   ]
  },
  {
   "cell_type": "code",
   "execution_count": 52,
   "id": "41b9da23",
   "metadata": {},
   "outputs": [
    {
     "data": {
      "text/plain": [
       "'The ay has been long The ay has been long The ay has been long The ay has been long '"
      ]
     },
     "execution_count": 52,
     "metadata": {},
     "output_type": "execute_result"
    }
   ],
   "source": [
    "string1=(string+\" \")*4\n",
    "string1"
   ]
  },
  {
   "cell_type": "code",
   "execution_count": 53,
   "id": "e655d8a2",
   "metadata": {},
   "outputs": [
    {
     "name": "stdout",
     "output_type": "stream",
     "text": [
      "The ay has been long\n",
      "The ay has been long\n",
      "The ay has been long\n",
      "\n"
     ]
    }
   ],
   "source": [
    "string2=(string+\"\\n\")*3\n",
    "print(string2)"
   ]
  },
  {
   "cell_type": "code",
   "execution_count": 57,
   "id": "57db824b",
   "metadata": {},
   "outputs": [
    {
     "name": "stdout",
     "output_type": "stream",
     "text": [
      "The ay Aas been long\n"
     ]
    }
   ],
   "source": [
    "st1=string[:7]\n",
    "st2=string[8:]\n",
    "st=st1+\"A\"+st2\n",
    "print(st)"
   ]
  },
  {
   "cell_type": "code",
   "execution_count": 61,
   "id": "e91ec893",
   "metadata": {},
   "outputs": [
    {
     "data": {
      "text/plain": [
       "'ay Aas been '"
      ]
     },
     "execution_count": 61,
     "metadata": {},
     "output_type": "execute_result"
    }
   ],
   "source": [
    "st[4:16]"
   ]
  },
  {
   "cell_type": "code",
   "execution_count": 62,
   "id": "245afbf4",
   "metadata": {},
   "outputs": [
    {
     "name": "stdout",
     "output_type": "stream",
     "text": [
      "length :  20\n"
     ]
    }
   ],
   "source": [
    "print(\"length : \",len(st))"
   ]
  },
  {
   "cell_type": "code",
   "execution_count": null,
   "id": "0b6c70eb",
   "metadata": {},
   "outputs": [],
   "source": []
  }
 ],
 "metadata": {
  "kernelspec": {
   "display_name": "Python 3 (ipykernel)",
   "language": "python",
   "name": "python3"
  },
  "language_info": {
   "codemirror_mode": {
    "name": "ipython",
    "version": 3
   },
   "file_extension": ".py",
   "mimetype": "text/x-python",
   "name": "python",
   "nbconvert_exporter": "python",
   "pygments_lexer": "ipython3",
   "version": "3.9.12"
  }
 },
 "nbformat": 4,
 "nbformat_minor": 5
}
