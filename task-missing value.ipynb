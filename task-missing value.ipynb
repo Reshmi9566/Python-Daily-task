{
 "cells": [
  {
   "cell_type": "code",
   "execution_count": 1,
   "id": "c2f3ff5a",
   "metadata": {},
   "outputs": [],
   "source": [
    "import numpy as np\n",
    "import pandas as pd\n",
    "import matplotlib.pyplot as plt\n",
    "import seaborn as sns"
   ]
  },
  {
   "cell_type": "code",
   "execution_count": 2,
   "id": "21c53704",
   "metadata": {},
   "outputs": [],
   "source": [
    "df=pd.read_csv(\"churn-data-v2.csv\")"
   ]
  },
  {
   "cell_type": "code",
   "execution_count": 4,
   "id": "4aaf3fe4",
   "metadata": {},
   "outputs": [
    {
     "data": {
      "text/html": [
       "<div>\n",
       "<style scoped>\n",
       "    .dataframe tbody tr th:only-of-type {\n",
       "        vertical-align: middle;\n",
       "    }\n",
       "\n",
       "    .dataframe tbody tr th {\n",
       "        vertical-align: top;\n",
       "    }\n",
       "\n",
       "    .dataframe thead th {\n",
       "        text-align: right;\n",
       "    }\n",
       "</style>\n",
       "<table border=\"1\" class=\"dataframe\">\n",
       "  <thead>\n",
       "    <tr style=\"text-align: right;\">\n",
       "      <th></th>\n",
       "      <th>satisfaction</th>\n",
       "      <th>evaluation</th>\n",
       "      <th>number_of_projects</th>\n",
       "      <th>average_montly_hours</th>\n",
       "      <th>time_spend_company</th>\n",
       "      <th>work_accident</th>\n",
       "      <th>churn</th>\n",
       "      <th>promotion</th>\n",
       "      <th>department</th>\n",
       "      <th>salary</th>\n",
       "    </tr>\n",
       "  </thead>\n",
       "  <tbody>\n",
       "    <tr>\n",
       "      <th>0</th>\n",
       "      <td>0.38</td>\n",
       "      <td>530.0</td>\n",
       "      <td>two</td>\n",
       "      <td>157.0</td>\n",
       "      <td>3+</td>\n",
       "      <td>no</td>\n",
       "      <td>yes</td>\n",
       "      <td>no</td>\n",
       "      <td>sales</td>\n",
       "      <td>low</td>\n",
       "    </tr>\n",
       "    <tr>\n",
       "      <th>1</th>\n",
       "      <td>0.80</td>\n",
       "      <td>860.0</td>\n",
       "      <td>five</td>\n",
       "      <td>262.0</td>\n",
       "      <td>6+</td>\n",
       "      <td>no</td>\n",
       "      <td>yes</td>\n",
       "      <td>no</td>\n",
       "      <td>sales</td>\n",
       "      <td>medium</td>\n",
       "    </tr>\n",
       "    <tr>\n",
       "      <th>2</th>\n",
       "      <td>0.11</td>\n",
       "      <td>880.0</td>\n",
       "      <td>seven</td>\n",
       "      <td>272.0</td>\n",
       "      <td>4+</td>\n",
       "      <td>no</td>\n",
       "      <td>yes</td>\n",
       "      <td>no</td>\n",
       "      <td>sales</td>\n",
       "      <td>medium</td>\n",
       "    </tr>\n",
       "    <tr>\n",
       "      <th>3</th>\n",
       "      <td>0.72</td>\n",
       "      <td>870.0</td>\n",
       "      <td>five</td>\n",
       "      <td>223.0</td>\n",
       "      <td>5+</td>\n",
       "      <td>no</td>\n",
       "      <td>yes</td>\n",
       "      <td>no</td>\n",
       "      <td>sales</td>\n",
       "      <td>low</td>\n",
       "    </tr>\n",
       "    <tr>\n",
       "      <th>4</th>\n",
       "      <td>0.37</td>\n",
       "      <td>520.0</td>\n",
       "      <td>two</td>\n",
       "      <td>159.0</td>\n",
       "      <td>3+</td>\n",
       "      <td>no</td>\n",
       "      <td>yes</td>\n",
       "      <td>no</td>\n",
       "      <td>sales</td>\n",
       "      <td>low</td>\n",
       "    </tr>\n",
       "  </tbody>\n",
       "</table>\n",
       "</div>"
      ],
      "text/plain": [
       "   satisfaction  evaluation number_of_projects  average_montly_hours  \\\n",
       "0          0.38       530.0                two                 157.0   \n",
       "1          0.80       860.0               five                 262.0   \n",
       "2          0.11       880.0              seven                 272.0   \n",
       "3          0.72       870.0               five                 223.0   \n",
       "4          0.37       520.0                two                 159.0   \n",
       "\n",
       "  time_spend_company work_accident churn promotion department  salary  \n",
       "0                 3+            no   yes        no      sales     low  \n",
       "1                 6+            no   yes        no      sales  medium  \n",
       "2                 4+            no   yes        no      sales  medium  \n",
       "3                 5+            no   yes        no      sales     low  \n",
       "4                 3+            no   yes        no      sales     low  "
      ]
     },
     "execution_count": 4,
     "metadata": {},
     "output_type": "execute_result"
    }
   ],
   "source": [
    "df.head()"
   ]
  },
  {
   "cell_type": "code",
   "execution_count": 5,
   "id": "e5ab93af",
   "metadata": {},
   "outputs": [
    {
     "name": "stdout",
     "output_type": "stream",
     "text": [
      "<class 'pandas.core.frame.DataFrame'>\n",
      "RangeIndex: 14999 entries, 0 to 14998\n",
      "Data columns (total 10 columns):\n",
      " #   Column                Non-Null Count  Dtype  \n",
      "---  ------                --------------  -----  \n",
      " 0   satisfaction          14990 non-null  float64\n",
      " 1   evaluation            14936 non-null  float64\n",
      " 2   number_of_projects    14955 non-null  object \n",
      " 3   average_montly_hours  14973 non-null  float64\n",
      " 4   time_spend_company    14999 non-null  object \n",
      " 5   work_accident         14999 non-null  object \n",
      " 6   churn                 14999 non-null  object \n",
      " 7   promotion             14999 non-null  object \n",
      " 8   department            14958 non-null  object \n",
      " 9   salary                14999 non-null  object \n",
      "dtypes: float64(3), object(7)\n",
      "memory usage: 1.1+ MB\n"
     ]
    }
   ],
   "source": [
    "df.info()"
   ]
  },
  {
   "cell_type": "code",
   "execution_count": 12,
   "id": "a2a18069",
   "metadata": {},
   "outputs": [
    {
     "data": {
      "text/html": [
       "<div>\n",
       "<style scoped>\n",
       "    .dataframe tbody tr th:only-of-type {\n",
       "        vertical-align: middle;\n",
       "    }\n",
       "\n",
       "    .dataframe tbody tr th {\n",
       "        vertical-align: top;\n",
       "    }\n",
       "\n",
       "    .dataframe thead th {\n",
       "        text-align: right;\n",
       "    }\n",
       "</style>\n",
       "<table border=\"1\" class=\"dataframe\">\n",
       "  <thead>\n",
       "    <tr style=\"text-align: right;\">\n",
       "      <th></th>\n",
       "      <th>satisfaction</th>\n",
       "      <th>evaluation</th>\n",
       "      <th>average_montly_hours</th>\n",
       "    </tr>\n",
       "  </thead>\n",
       "  <tbody>\n",
       "    <tr>\n",
       "      <th>count</th>\n",
       "      <td>14990.000000</td>\n",
       "      <td>14936.000000</td>\n",
       "      <td>14973.000000</td>\n",
       "    </tr>\n",
       "    <tr>\n",
       "      <th>mean</th>\n",
       "      <td>0.612817</td>\n",
       "      <td>716.085297</td>\n",
       "      <td>201.050424</td>\n",
       "    </tr>\n",
       "    <tr>\n",
       "      <th>std</th>\n",
       "      <td>0.248704</td>\n",
       "      <td>171.529563</td>\n",
       "      <td>49.986445</td>\n",
       "    </tr>\n",
       "    <tr>\n",
       "      <th>min</th>\n",
       "      <td>0.090000</td>\n",
       "      <td>360.000000</td>\n",
       "      <td>96.000000</td>\n",
       "    </tr>\n",
       "    <tr>\n",
       "      <th>25%</th>\n",
       "      <td>0.440000</td>\n",
       "      <td>560.000000</td>\n",
       "      <td>156.000000</td>\n",
       "    </tr>\n",
       "    <tr>\n",
       "      <th>50%</th>\n",
       "      <td>0.640000</td>\n",
       "      <td>720.000000</td>\n",
       "      <td>200.000000</td>\n",
       "    </tr>\n",
       "    <tr>\n",
       "      <th>75%</th>\n",
       "      <td>0.820000</td>\n",
       "      <td>870.000000</td>\n",
       "      <td>245.000000</td>\n",
       "    </tr>\n",
       "    <tr>\n",
       "      <th>max</th>\n",
       "      <td>1.000000</td>\n",
       "      <td>1000.000000</td>\n",
       "      <td>310.000000</td>\n",
       "    </tr>\n",
       "  </tbody>\n",
       "</table>\n",
       "</div>"
      ],
      "text/plain": [
       "       satisfaction    evaluation  average_montly_hours\n",
       "count  14990.000000  14936.000000          14973.000000\n",
       "mean       0.612817    716.085297            201.050424\n",
       "std        0.248704    171.529563             49.986445\n",
       "min        0.090000    360.000000             96.000000\n",
       "25%        0.440000    560.000000            156.000000\n",
       "50%        0.640000    720.000000            200.000000\n",
       "75%        0.820000    870.000000            245.000000\n",
       "max        1.000000   1000.000000            310.000000"
      ]
     },
     "execution_count": 12,
     "metadata": {},
     "output_type": "execute_result"
    }
   ],
   "source": [
    "df.describe()"
   ]
  },
  {
   "cell_type": "code",
   "execution_count": 6,
   "id": "76b42eb8",
   "metadata": {},
   "outputs": [
    {
     "data": {
      "text/plain": [
       "satisfaction             9\n",
       "evaluation              63\n",
       "number_of_projects      44\n",
       "average_montly_hours    26\n",
       "time_spend_company       0\n",
       "work_accident            0\n",
       "churn                    0\n",
       "promotion                0\n",
       "department              41\n",
       "salary                   0\n",
       "dtype: int64"
      ]
     },
     "execution_count": 6,
     "metadata": {},
     "output_type": "execute_result"
    }
   ],
   "source": [
    "df.isna().sum()"
   ]
  },
  {
   "cell_type": "code",
   "execution_count": 8,
   "id": "07ef5706",
   "metadata": {},
   "outputs": [],
   "source": [
    "freqgrph=df.select_dtypes(include=['float'])"
   ]
  },
  {
   "cell_type": "code",
   "execution_count": 9,
   "id": "744c233a",
   "metadata": {},
   "outputs": [
    {
     "data": {
      "image/png": "[encoded data removed]",
      "text/plain": [
       "<Figure size 1440x1080 with 4 Axes>"
      ]
     },
     "metadata": {
      "needs_background": "light"
     },
     "output_type": "display_data"
    }
   ],
   "source": [
    "freqgrph.hist(figsize=(20,15))\n",
    "plt.show()"
   ]
  },
  {
   "cell_type": "code",
   "execution_count": 16,
   "id": "0b4811af",
   "metadata": {},
   "outputs": [],
   "source": [
    "for col in ['satisfaction','evaluation','average_montly_hours']:\n",
    "    df[col]=df[col].fillna(df[col].median())"
   ]
  },
  {
   "cell_type": "code",
   "execution_count": 17,
   "id": "dc53dd5a",
   "metadata": {},
   "outputs": [
    {
     "data": {
      "text/plain": [
       "satisfaction             0\n",
       "evaluation               0\n",
       "number_of_projects      44\n",
       "average_montly_hours     0\n",
       "time_spend_company       0\n",
       "work_accident            0\n",
       "churn                    0\n",
       "promotion                0\n",
       "department              41\n",
       "salary                   0\n",
       "dtype: int64"
      ]
     },
     "execution_count": 17,
     "metadata": {},
     "output_type": "execute_result"
    }
   ],
   "source": [
    "df.isna().sum()"
   ]
  },
  {
   "cell_type": "code",
   "execution_count": 20,
   "id": "ff470acc",
   "metadata": {},
   "outputs": [],
   "source": [
    "for col1 in ['number_of_projects','department']:\n",
    "    df[col1]=df[col1].fillna(df[col1].mode()[0])"
   ]
  },
  {
   "cell_type": "code",
   "execution_count": 21,
   "id": "175992ba",
   "metadata": {},
   "outputs": [
    {
     "data": {
      "text/plain": [
       "satisfaction            0\n",
       "evaluation              0\n",
       "number_of_projects      0\n",
       "average_montly_hours    0\n",
       "time_spend_company      0\n",
       "work_accident           0\n",
       "churn                   0\n",
       "promotion               0\n",
       "department              0\n",
       "salary                  0\n",
       "dtype: int64"
      ]
     },
     "execution_count": 21,
     "metadata": {},
     "output_type": "execute_result"
    }
   ],
   "source": [
    "df.isna().sum()"
   ]
  },
  {
   "cell_type": "code",
   "execution_count": 36,
   "id": "3073fd32",
   "metadata": {},
   "outputs": [
    {
     "data": {
      "image/png": "[encoded data removed]",
      "text/plain": [
       "<Figure size 432x288 with 1 Axes>"
      ]
     },
     "metadata": {
      "needs_background": "light"
     },
     "output_type": "display_data"
    },
    {
     "data": {
      "image/png": "[encoded data removed]",
      "text/plain": [
       "<Figure size 432x288 with 1 Axes>"
      ]
     },
     "metadata": {
      "needs_background": "light"
     },
     "output_type": "display_data"
    },
    {
     "data": {
      "image/png": "[encoded data removed]",
      "text/plain": [
       "<Figure size 432x288 with 1 Axes>"
      ]
     },
     "metadata": {
      "needs_background": "light"
     },
     "output_type": "display_data"
    }
   ],
   "source": [
    "for i in ['satisfaction','evaluation','average_montly_hours']:\n",
    "       plt.figure()\n",
    "       plt.boxplot(df[i])\n",
    "       plt.title(i)"
   ]
  },
  {
   "cell_type": "markdown",
   "id": "59006eb6",
   "metadata": {},
   "source": [
    "There is no outliers in the above dataset"
   ]
  },
  {
   "cell_type": "code",
   "execution_count": null,
   "id": "6e7f6fac",
   "metadata": {},
   "outputs": [],
   "source": []
  }
 ],
 "metadata": {
  "kernelspec": {
   "display_name": "Python 3 (ipykernel)",
   "language": "python",
   "name": "python3"
  },
  "language_info": {
   "codemirror_mode": {
    "name": "ipython",
    "version": 3
   },
   "file_extension": ".py",
   "mimetype": "text/x-python",
   "name": "python",
   "nbconvert_exporter": "python",
   "pygments_lexer": "ipython3",
   "version": "3.9.12"
  }
 },
 "nbformat": 4,
 "nbformat_minor": 5
}
